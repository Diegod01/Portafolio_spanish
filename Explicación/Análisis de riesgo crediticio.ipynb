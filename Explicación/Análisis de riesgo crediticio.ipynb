{
  "nbformat": 4,
  "nbformat_minor": 0,
  "metadata": {
    "colab": {
      "name": "Risk_analysis_with_Tree.ipynb",
      "provenance": [],
      "collapsed_sections": []
    },
    "kernelspec": {
      "name": "python3",
      "display_name": "Python 3"
    },
    "language_info": {
      "name": "python"
    }
  },
  "cells": [
    {
      "cell_type": "code",
      "execution_count": null,
      "metadata": {
        "id": "P9xYnzjZIzHK"
      },
      "outputs": [],
      "source": [
        "from sklearn import tree"
      ]
    },
    {
      "cell_type": "markdown",
      "source": [
        "# En este trabajo creé un algoritmo para analizar el riesgo de dar un crédito bancario a un nuevo cliente que lo está solicitando"
      ],
      "metadata": {
        "id": "E8yNr_-fHAQK"
      }
    },
    {
      "cell_type": "code",
      "source": [
        "clf = tree.DecisionTreeClassifier()"
      ],
      "metadata": {
        "id": "pdoBWUawI4VR"
      },
      "execution_count": null,
      "outputs": []
    },
    {
      "cell_type": "code",
      "source": [
        "X = ((1, 2, 1), (2, 1, 0), (0, 2, 0), (1, 1, 1), (2, 1, 1), (0, 0, 0), (1, 0, 1), (0, 1, 2), (2, 2, 2), (2, 1, 2), (1, 2, 2))"
      ],
      "metadata": {
        "id": "UEfRKl8hI4Xy"
      },
      "execution_count": null,
      "outputs": []
    },
    {
      "cell_type": "markdown",
      "source": [
        "# El primer número representa si es una cantidad alta o baja solicitada. 0 = es baja, 1 = es media, 2 = es alta\n",
        "\n",
        "# El segundo lugar representa si el cliente se demora en pagar el préstamo o lo devuelve a tiempo. 0 = poco tiempo, 1 = tiempo intermedio, 2 = mucho tiempo\n",
        "\n",
        "# El tercer lugar representa el historial crediticio del cliente en este banco o en otros (en caso de que el cliente sea nuevo), 0 = buen historial, 1 = historial intermedio, 2 = mal historial"
      ],
      "metadata": {
        "id": "pV-qexEeK4pB"
      }
    },
    {
      "cell_type": "code",
      "source": [
        "Y = ['lend','lend','lend','lend','not lend','lend','not lend','not lend','not lend','not lend','not lend']"
      ],
      "metadata": {
        "id": "usJYHT--I4bT"
      },
      "execution_count": null,
      "outputs": []
    },
    {
      "cell_type": "code",
      "source": [
        "clf = clf.fit(X, Y)"
      ],
      "metadata": {
        "id": "ogU--TqgIz_Q"
      },
      "execution_count": null,
      "outputs": []
    },
    {
      "cell_type": "markdown",
      "source": [
        "# Ya disponemos de una base de datos donde hemos prestado y no prestado a clientes anteriores"
      ],
      "metadata": {
        "id": "WMTzV9xj_Hss"
      }
    },
    {
      "cell_type": "markdown",
      "source": [
        "# Supongamos que un nuevo cliente viene a solicitar un préstamo, nuestro modelo evaluará si es arriesgado y si debemos o no darle el préstamo"
      ],
      "metadata": {
        "id": "inucAvukjNaX"
      }
    },
    {
      "cell_type": "code",
      "source": [
        "dato1 = [1, 0, 0]"
      ],
      "metadata": {
        "id": "pE-OZ-3NI0Ez"
      },
      "execution_count": null,
      "outputs": []
    },
    {
      "cell_type": "markdown",
      "source": [
        "# Colocamos que pide intermedio, regreses a tiempo y tiene un buen historial crediticio"
      ],
      "metadata": {
        "id": "VqZaU5x1k7LM"
      }
    },
    {
      "cell_type": "code",
      "source": [
        "prediction = clf.predict([dato1])"
      ],
      "metadata": {
        "id": "-1ZojNDiI0HQ"
      },
      "execution_count": null,
      "outputs": []
    },
    {
      "cell_type": "code",
      "source": [
        "print(prediction)"
      ],
      "metadata": {
        "colab": {
          "base_uri": "https://localhost:8080/"
        },
        "id": "3m1eKGcSJKMB",
        "outputId": "011661dc-5b78-4c5c-aaea-658b44b12459"
      },
      "execution_count": null,
      "outputs": [
        {
          "output_type": "stream",
          "name": "stdout",
          "text": [
            "['lend']\n"
          ]
        }
      ]
    },
    {
      "cell_type": "code",
      "source": [
        "Prestar"
      ],
      "metadata": {
        "id": "GZMj2KECSScC"
      },
      "execution_count": null,
      "outputs": []
    },
    {
      "cell_type": "code",
      "source": [
        "if prediction == 'lend':\n",
        "    print(\"Es conveniente dar el préstamo a este nuevo cliente\")\n",
        "else:\n",
        "    print(\"No es conveniente dar el préstamo a este nuevo cliente\")"
      ],
      "metadata": {
        "colab": {
          "base_uri": "https://localhost:8080/"
        },
        "id": "zyOWA96XI0Jp",
        "outputId": "82343b7f-735c-4558-89d5-79d539cceca2"
      },
      "execution_count": null,
      "outputs": [
        {
          "output_type": "stream",
          "name": "stdout",
          "text": [
            "Es conveniente dar el préstamo a este nuevo cliente\n"
          ]
        }
      ]
    },
    {
      "cell_type": "code",
      "source": [
        "Es conveniente dar el préstamo a este nuevo cliente"
      ],
      "metadata": {
        "id": "HeqKbssNSjdB"
      },
      "execution_count": null,
      "outputs": []
    },
    {
      "cell_type": "code",
      "source": [
        "dato2 = [2, 1, 2]"
      ],
      "metadata": {
        "id": "2ZUKLtLZk2C3"
      },
      "execution_count": null,
      "outputs": []
    },
    {
      "cell_type": "markdown",
      "source": [
        "\n",
        "# Colocamos que pide mucho, regresa a tiempo y tiene mal historial crediticio"
      ],
      "metadata": {
        "id": "nsR6C8jHlDzM"
      }
    },
    {
      "cell_type": "code",
      "source": [
        "prediction = clf.predict([dato2])"
      ],
      "metadata": {
        "id": "SVtEv6iRk2TH"
      },
      "execution_count": null,
      "outputs": []
    },
    {
      "cell_type": "code",
      "source": [
        "print(prediction)"
      ],
      "metadata": {
        "colab": {
          "base_uri": "https://localhost:8080/"
        },
        "id": "5D0UHcpNnzvj",
        "outputId": "68af9d9a-77fa-4764-9949-6fa8566caf2b"
      },
      "execution_count": null,
      "outputs": [
        {
          "output_type": "stream",
          "name": "stdout",
          "text": [
            "['not lend']\n"
          ]
        }
      ]
    },
    {
      "cell_type": "code",
      "source": [
        "No prestar"
      ],
      "metadata": {
        "id": "pka05wJJSQy1"
      },
      "execution_count": null,
      "outputs": []
    },
    {
      "cell_type": "code",
      "source": [
        "if prediction == 'lend':\n",
        "    print(\"Es conveniente dar el préstamo a este nuevo cliente\")\n",
        "else:\n",
        "    print(\"No es conveniente dar el préstamo a este nuevo cliente\")"
      ],
      "metadata": {
        "id": "RIEYDQBbwH4s",
        "outputId": "4044903f-3164-4555-8f80-0e24eb9601e2",
        "colab": {
          "base_uri": "https://localhost:8080/"
        }
      },
      "execution_count": null,
      "outputs": [
        {
          "output_type": "stream",
          "name": "stdout",
          "text": [
            "No es conveniente dar el préstamo a este nuevo cliente\n"
          ]
        }
      ]
    },
    {
      "cell_type": "code",
      "source": [
        "No es conveniente dar el préstamo a este nuevo cliente"
      ],
      "metadata": {
        "id": "kO8Jj1x0wL8f"
      },
      "execution_count": null,
      "outputs": []
    }
  ]
}
