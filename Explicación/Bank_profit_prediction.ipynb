{
  "nbformat": 4,
  "nbformat_minor": 0,
  "metadata": {
    "colab": {
      "name": "Bank_profit_prediction.ipynb",
      "provenance": [],
      "collapsed_sections": []
    },
    "kernelspec": {
      "name": "python3",
      "display_name": "Python 3"
    },
    "language_info": {
      "name": "python"
    }
  },
  "cells": [
    {
      "cell_type": "markdown",
      "source": [
        "# En este proyecto hago una predicción de la ganancia (o demanda) bancaria en base a la tasa de interés de los préstamos anteriores y la ganancia que estos generaron"
      ],
      "metadata": {
        "id": "HSl2lODMI-kt"
      }
    },
    {
      "cell_type": "code",
      "execution_count": null,
      "metadata": {
        "id": "Iwu4Jf9hGTdz"
      },
      "outputs": [],
      "source": [
        "import numpy as np  \n",
        "\n",
        "  \n",
        "\n",
        "\n",
        "import matplotlib.pyplot as plt \n",
        "\n",
        "  \n",
        "import pandas as pd"
      ]
    },
    {
      "cell_type": "code",
      "source": [
        "dataset = np.array( \n",
        "\n",
        "[['Loan1', 15, 1000], \n",
        "\n",
        "['Loan2', 12, 3000], \n",
        "\n",
        "['Loan3', 10, 5000], \n",
        "\n",
        "['Loan4', 9, 8000], \n",
        "\n",
        "['Loan5', 8, 6500], \n",
        "\n",
        "['Loan6', 8, 7000], \n",
        "\n",
        "['Loan7', 6, 15000], \n",
        "\n",
        "['Loan8', 4, 20000], \n",
        "\n",
        "['Loan9', 4, 21000], \n",
        "\n",
        "['Loan10', 4, 25000], \n",
        "\n",
        "['Loan11', 4, 27000], \n",
        "\n",
        "['Loan12', 4, 30000], \n",
        "\n",
        "['Loan13', 3, 52000], \n",
        "\n",
        "['Loan14', 1, 80000] \n",
        "])"
      ],
      "metadata": {
        "id": "KdxcOF4dGWlv"
      },
      "execution_count": null,
      "outputs": []
    },
    {
      "cell_type": "code",
      "source": [
        "print(dataset)"
      ],
      "metadata": {
        "colab": {
          "base_uri": "https://localhost:8080/"
        },
        "id": "-zU1wOB6GWoL",
        "outputId": "0e54ecd2-8dff-42eb-f852-5809fd726773"
      },
      "execution_count": null,
      "outputs": [
        {
          "output_type": "stream",
          "name": "stdout",
          "text": [
            "[['Loan1' '15' '1000']\n",
            " ['Loan2' '12' '3000']\n",
            " ['Loan3' '10' '5000']\n",
            " ['Loan4' '9' '8000']\n",
            " ['Loan5' '8' '6500']\n",
            " ['Loan6' '8' '7000']\n",
            " ['Loan7' '6' '15000']\n",
            " ['Loan8' '4' '20000']\n",
            " ['Loan9' '4' '21000']\n",
            " ['Loan10' '4' '25000']\n",
            " ['Loan11' '4' '27000']\n",
            " ['Loan12' '4' '30000']\n",
            " ['Loan13' '3' '52000']\n",
            " ['Loan14' '1' '80000']]\n"
          ]
        }
      ]
    },
    {
      "cell_type": "markdown",
      "source": [
        "# El conjunto de datos muestra en la primera columna el tipo de préstamo, en la segunda columna el porcentaje de interés y en la tercera columna la ganancia"
      ],
      "metadata": {
        "id": "BUH6wSX9JZdT"
      }
    },
    {
      "cell_type": "code",
      "source": [
        "pd.DataFrame(dataset)"
      ],
      "metadata": {
        "colab": {
          "base_uri": "https://localhost:8080/",
          "height": 488
        },
        "id": "LMXKy3TZGWqX",
        "outputId": "950ca443-0a29-479c-e860-c42855661e44"
      },
      "execution_count": null,
      "outputs": [
        {
          "output_type": "execute_result",
          "data": {
            "text/plain": [
              "         0   1      2\n",
              "0    Loan1  15   1000\n",
              "1    Loan2  12   3000\n",
              "2    Loan3  10   5000\n",
              "3    Loan4   9   8000\n",
              "4    Loan5   8   6500\n",
              "5    Loan6   8   7000\n",
              "6    Loan7   6  15000\n",
              "7    Loan8   4  20000\n",
              "8    Loan9   4  21000\n",
              "9   Loan10   4  25000\n",
              "10  Loan11   4  27000\n",
              "11  Loan12   4  30000\n",
              "12  Loan13   3  52000\n",
              "13  Loan14   1  80000"
            ],
            "text/html": [
              "\n",
              "  <div id=\"df-1f27b1b6-e531-4785-a998-eafb2c20057a\">\n",
              "    <div class=\"colab-df-container\">\n",
              "      <div>\n",
              "<style scoped>\n",
              "    .dataframe tbody tr th:only-of-type {\n",
              "        vertical-align: middle;\n",
              "    }\n",
              "\n",
              "    .dataframe tbody tr th {\n",
              "        vertical-align: top;\n",
              "    }\n",
              "\n",
              "    .dataframe thead th {\n",
              "        text-align: right;\n",
              "    }\n",
              "</style>\n",
              "<table border=\"1\" class=\"dataframe\">\n",
              "  <thead>\n",
              "    <tr style=\"text-align: right;\">\n",
              "      <th></th>\n",
              "      <th>0</th>\n",
              "      <th>1</th>\n",
              "      <th>2</th>\n",
              "    </tr>\n",
              "  </thead>\n",
              "  <tbody>\n",
              "    <tr>\n",
              "      <th>0</th>\n",
              "      <td>Loan1</td>\n",
              "      <td>15</td>\n",
              "      <td>1000</td>\n",
              "    </tr>\n",
              "    <tr>\n",
              "      <th>1</th>\n",
              "      <td>Loan2</td>\n",
              "      <td>12</td>\n",
              "      <td>3000</td>\n",
              "    </tr>\n",
              "    <tr>\n",
              "      <th>2</th>\n",
              "      <td>Loan3</td>\n",
              "      <td>10</td>\n",
              "      <td>5000</td>\n",
              "    </tr>\n",
              "    <tr>\n",
              "      <th>3</th>\n",
              "      <td>Loan4</td>\n",
              "      <td>9</td>\n",
              "      <td>8000</td>\n",
              "    </tr>\n",
              "    <tr>\n",
              "      <th>4</th>\n",
              "      <td>Loan5</td>\n",
              "      <td>8</td>\n",
              "      <td>6500</td>\n",
              "    </tr>\n",
              "    <tr>\n",
              "      <th>5</th>\n",
              "      <td>Loan6</td>\n",
              "      <td>8</td>\n",
              "      <td>7000</td>\n",
              "    </tr>\n",
              "    <tr>\n",
              "      <th>6</th>\n",
              "      <td>Loan7</td>\n",
              "      <td>6</td>\n",
              "      <td>15000</td>\n",
              "    </tr>\n",
              "    <tr>\n",
              "      <th>7</th>\n",
              "      <td>Loan8</td>\n",
              "      <td>4</td>\n",
              "      <td>20000</td>\n",
              "    </tr>\n",
              "    <tr>\n",
              "      <th>8</th>\n",
              "      <td>Loan9</td>\n",
              "      <td>4</td>\n",
              "      <td>21000</td>\n",
              "    </tr>\n",
              "    <tr>\n",
              "      <th>9</th>\n",
              "      <td>Loan10</td>\n",
              "      <td>4</td>\n",
              "      <td>25000</td>\n",
              "    </tr>\n",
              "    <tr>\n",
              "      <th>10</th>\n",
              "      <td>Loan11</td>\n",
              "      <td>4</td>\n",
              "      <td>27000</td>\n",
              "    </tr>\n",
              "    <tr>\n",
              "      <th>11</th>\n",
              "      <td>Loan12</td>\n",
              "      <td>4</td>\n",
              "      <td>30000</td>\n",
              "    </tr>\n",
              "    <tr>\n",
              "      <th>12</th>\n",
              "      <td>Loan13</td>\n",
              "      <td>3</td>\n",
              "      <td>52000</td>\n",
              "    </tr>\n",
              "    <tr>\n",
              "      <th>13</th>\n",
              "      <td>Loan14</td>\n",
              "      <td>1</td>\n",
              "      <td>80000</td>\n",
              "    </tr>\n",
              "  </tbody>\n",
              "</table>\n",
              "</div>\n",
              "      <button class=\"colab-df-convert\" onclick=\"convertToInteractive('df-1f27b1b6-e531-4785-a998-eafb2c20057a')\"\n",
              "              title=\"Convert this dataframe to an interactive table.\"\n",
              "              style=\"display:none;\">\n",
              "        \n",
              "  <svg xmlns=\"http://www.w3.org/2000/svg\" height=\"24px\"viewBox=\"0 0 24 24\"\n",
              "       width=\"24px\">\n",
              "    <path d=\"M0 0h24v24H0V0z\" fill=\"none\"/>\n",
              "    <path d=\"M18.56 5.44l.94 2.06.94-2.06 2.06-.94-2.06-.94-.94-2.06-.94 2.06-2.06.94zm-11 1L8.5 8.5l.94-2.06 2.06-.94-2.06-.94L8.5 2.5l-.94 2.06-2.06.94zm10 10l.94 2.06.94-2.06 2.06-.94-2.06-.94-.94-2.06-.94 2.06-2.06.94z\"/><path d=\"M17.41 7.96l-1.37-1.37c-.4-.4-.92-.59-1.43-.59-.52 0-1.04.2-1.43.59L10.3 9.45l-7.72 7.72c-.78.78-.78 2.05 0 2.83L4 21.41c.39.39.9.59 1.41.59.51 0 1.02-.2 1.41-.59l7.78-7.78 2.81-2.81c.8-.78.8-2.07 0-2.86zM5.41 20L4 18.59l7.72-7.72 1.47 1.35L5.41 20z\"/>\n",
              "  </svg>\n",
              "      </button>\n",
              "      \n",
              "  <style>\n",
              "    .colab-df-container {\n",
              "      display:flex;\n",
              "      flex-wrap:wrap;\n",
              "      gap: 12px;\n",
              "    }\n",
              "\n",
              "    .colab-df-convert {\n",
              "      background-color: #E8F0FE;\n",
              "      border: none;\n",
              "      border-radius: 50%;\n",
              "      cursor: pointer;\n",
              "      display: none;\n",
              "      fill: #1967D2;\n",
              "      height: 32px;\n",
              "      padding: 0 0 0 0;\n",
              "      width: 32px;\n",
              "    }\n",
              "\n",
              "    .colab-df-convert:hover {\n",
              "      background-color: #E2EBFA;\n",
              "      box-shadow: 0px 1px 2px rgba(60, 64, 67, 0.3), 0px 1px 3px 1px rgba(60, 64, 67, 0.15);\n",
              "      fill: #174EA6;\n",
              "    }\n",
              "\n",
              "    [theme=dark] .colab-df-convert {\n",
              "      background-color: #3B4455;\n",
              "      fill: #D2E3FC;\n",
              "    }\n",
              "\n",
              "    [theme=dark] .colab-df-convert:hover {\n",
              "      background-color: #434B5C;\n",
              "      box-shadow: 0px 1px 3px 1px rgba(0, 0, 0, 0.15);\n",
              "      filter: drop-shadow(0px 1px 2px rgba(0, 0, 0, 0.3));\n",
              "      fill: #FFFFFF;\n",
              "    }\n",
              "  </style>\n",
              "\n",
              "      <script>\n",
              "        const buttonEl =\n",
              "          document.querySelector('#df-1f27b1b6-e531-4785-a998-eafb2c20057a button.colab-df-convert');\n",
              "        buttonEl.style.display =\n",
              "          google.colab.kernel.accessAllowed ? 'block' : 'none';\n",
              "\n",
              "        async function convertToInteractive(key) {\n",
              "          const element = document.querySelector('#df-1f27b1b6-e531-4785-a998-eafb2c20057a');\n",
              "          const dataTable =\n",
              "            await google.colab.kernel.invokeFunction('convertToInteractive',\n",
              "                                                     [key], {});\n",
              "          if (!dataTable) return;\n",
              "\n",
              "          const docLinkHtml = 'Like what you see? Visit the ' +\n",
              "            '<a target=\"_blank\" href=https://colab.research.google.com/notebooks/data_table.ipynb>data table notebook</a>'\n",
              "            + ' to learn more about interactive tables.';\n",
              "          element.innerHTML = '';\n",
              "          dataTable['output_type'] = 'display_data';\n",
              "          await google.colab.output.renderOutput(dataTable, element);\n",
              "          const docLink = document.createElement('div');\n",
              "          docLink.innerHTML = docLinkHtml;\n",
              "          element.appendChild(docLink);\n",
              "        }\n",
              "      </script>\n",
              "    </div>\n",
              "  </div>\n",
              "  "
            ]
          },
          "metadata": {},
          "execution_count": 10
        }
      ]
    },
    {
      "cell_type": "code",
      "source": [
        "X = dataset[:, 1:2].astype(int)  \n",
        "\n",
        "  \n",
        "\n",
        "print(X)"
      ],
      "metadata": {
        "colab": {
          "base_uri": "https://localhost:8080/"
        },
        "id": "_o-9Ro-2GWsz",
        "outputId": "a77152d6-ec0b-4e6c-fb7d-48f0d3d22e5b"
      },
      "execution_count": null,
      "outputs": [
        {
          "output_type": "stream",
          "name": "stdout",
          "text": [
            "[[15]\n",
            " [12]\n",
            " [10]\n",
            " [ 9]\n",
            " [ 8]\n",
            " [ 8]\n",
            " [ 6]\n",
            " [ 4]\n",
            " [ 4]\n",
            " [ 4]\n",
            " [ 4]\n",
            " [ 4]\n",
            " [ 3]\n",
            " [ 1]]\n"
          ]
        }
      ]
    },
    {
      "cell_type": "code",
      "source": [
        "y = dataset[:, 2].astype(int)"
      ],
      "metadata": {
        "id": "1iHDPICBGWzb"
      },
      "execution_count": null,
      "outputs": []
    },
    {
      "cell_type": "code",
      "source": [
        "print(y)"
      ],
      "metadata": {
        "colab": {
          "base_uri": "https://localhost:8080/"
        },
        "id": "YIwZorKkGW1e",
        "outputId": "8e0f6ba1-cb8f-4c70-c7c9-423d58c7e912"
      },
      "execution_count": null,
      "outputs": [
        {
          "output_type": "stream",
          "name": "stdout",
          "text": [
            "[ 1000  3000  5000  8000  6500  7000 15000 20000 21000 25000 27000 30000\n",
            " 52000 80000]\n"
          ]
        }
      ]
    },
    {
      "cell_type": "markdown",
      "source": [
        "# Importamos el algoritmo para la predicción"
      ],
      "metadata": {
        "id": "J5veezK4KDK2"
      }
    },
    {
      "cell_type": "code",
      "source": [
        "from sklearn.tree import DecisionTreeRegressor"
      ],
      "metadata": {
        "id": "hpOMwml3GW4E"
      },
      "execution_count": null,
      "outputs": []
    },
    {
      "cell_type": "code",
      "source": [
        "regressor = DecisionTreeRegressor(random_state = 0)  \n",
        "\n",
        "  \n",
        "\n",
        "regressor.fit(X, y)"
      ],
      "metadata": {
        "colab": {
          "base_uri": "https://localhost:8080/"
        },
        "id": "jGtsKFYMGW6Q",
        "outputId": "e1074034-0e28-49b4-8a64-d877a576409c"
      },
      "execution_count": null,
      "outputs": [
        {
          "output_type": "execute_result",
          "data": {
            "text/plain": [
              "DecisionTreeRegressor(random_state=0)"
            ]
          },
          "metadata": {},
          "execution_count": 15
        }
      ]
    },
    {
      "cell_type": "code",
      "source": [
        "X_grid = np.arange(min(X), max(X), 0.01)"
      ],
      "metadata": {
        "id": "gDHdAtbwH9r5"
      },
      "execution_count": null,
      "outputs": []
    },
    {
      "cell_type": "code",
      "source": [
        "X_grid = X_grid.reshape((len(X_grid), 1))"
      ],
      "metadata": {
        "id": "X5kjIDomH9vh"
      },
      "execution_count": null,
      "outputs": []
    },
    {
      "cell_type": "code",
      "source": [
        "plt.scatter(X, y, color = 'red') \n",
        "\n",
        "\n",
        "\n",
        "plt.plot(X_grid, regressor.predict(X_grid), color = 'blue')  \n",
        " \n",
        "\n",
        "plt.title('Profit to Bank interest (Decision Tree Regression)')  \n",
        "\n",
        "  \n",
        "\n",
        "plt.xlabel('Interest') \n",
        "\n",
        "  \n",
        "\n",
        "\n",
        "plt.ylabel('Profit') \n",
        "\n",
        "  \n",
        " \n",
        "plt.show()"
      ],
      "metadata": {
        "colab": {
          "base_uri": "https://localhost:8080/",
          "height": 222
        },
        "id": "RM3TFyFzH9y9",
        "outputId": "ee0ea9a1-1648-4897-abab-7c3c95a20721"
      },
      "execution_count": null,
      "outputs": [
        {
          "output_type": "display_data",
          "data": {
            "text/plain": [
              "<Figure size 432x288 with 1 Axes>"
            ],
            "image/png": "[encoded data removed]"
          },
          "metadata": {
            "needs_background": "light"
          }
        }
      ]
    },
    {
      "cell_type": "markdown",
      "source": [
        "# La gráfica"
      ],
      "metadata": {
        "id": "VTvY9ClkKJcH"
      }
    },
    {
      "cell_type": "code",
      "source": [
        "y_pred = regressor.predict([[2]]) \n",
        "\n",
        "  \n",
        "\n",
        "print(\"Predicted price: % d\\n\"% y_pred)"
      ],
      "metadata": {
        "colab": {
          "base_uri": "https://localhost:8080/"
        },
        "id": "scx89ZCkGW87",
        "outputId": "caaddf2c-87c2-46fb-e9fe-7bda4b1cb315"
      },
      "execution_count": null,
      "outputs": [
        {
          "output_type": "stream",
          "name": "stdout",
          "text": [
            "Predicted price:  80000\n",
            "\n"
          ]
        }
      ]
    },
    {
      "cell_type": "markdown",
      "source": [
        "# Y la predicción"
      ],
      "metadata": {
        "id": "Nrmu3KKOKK-O"
      }
    },
    {
      "cell_type": "markdown",
      "source": [
        "\n",
        "# Un interés de 2% genera una ganancia de 80000$"
      ],
      "metadata": {
        "id": "afmkEGLXIrEx"
      }
    },
    {
      "cell_type": "code",
      "source": [
        ""
      ],
      "metadata": {
        "id": "5WPiCxIYH911"
      },
      "execution_count": null,
      "outputs": []
    }
  ]
}