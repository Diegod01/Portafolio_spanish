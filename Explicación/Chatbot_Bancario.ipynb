{
  "cells": [
    {
      "cell_type": "markdown",
      "source": [
        "# En este proyecto creé un chatbot para un banco, cuando el cliente habla con el chatbot este tiene una base de datos y una serie de respuestas programadas"
      ],
      "metadata": {
        "id": "Nam2TS4Zrhej"
      }
    },
    {
      "cell_type": "code",
      "execution_count": null,
      "metadata": {
        "id": "FhGfD_Y22DMb"
      },
      "outputs": [],
      "source": [
        "import nltk"
      ]
    },
    {
      "cell_type": "code",
      "execution_count": null,
      "metadata": {
        "id": "jvsI7Im-O10n"
      },
      "outputs": [],
      "source": [
        "from nltk.chat.util import Chat, reflections"
      ]
    },
    {
      "cell_type": "code",
      "execution_count": null,
      "metadata": {
        "id": "uh9xrL-lO13R"
      },
      "outputs": [],
      "source": [
        "mis_reflexions = {\n",
        "\"ir\": \"fui\",\n",
        "\"hola\": \"hey\"\n",
        "}"
      ]
    },
    {
      "cell_type": "markdown",
      "source": [
        "# En la siguiente celda de código puedes ver lo que pone el cliente y lo que responde el chatbot"
      ],
      "metadata": {
        "id": "QlOT5VAqrr90"
      }
    },
    {
      "cell_type": "code",
      "execution_count": null,
      "metadata": {
        "id": "44gjPapm2DOv"
      },
      "outputs": [],
      "source": [
        "pares = [\n",
        "[ \n",
        "r\"Hola\",\n",
        "[\"Bienvenido, soy el ChatBot de el banco y te ayudare en lo que necesites 24 horas, para información escribe INFO y para dudas escribe DUDA\",]\n",
        "],\n",
        "[\n",
        "r\"DUDA\",\n",
        "[\"Necesito tú número de documento para conectarme a la base de datos\",]\n",
        "],\n",
        "[\n",
        "r\"12345678\",\n",
        "[\"Documento registrado, escribe LISTA para mostrarte las opciones\",]\n",
        "],\n",
        "[\n",
        "r\"LISTA\",\n",
        "[\"Digita el número que desees ver:  1 = Préstamos solicitados y cantidad a pagar,      2 =  Intereses generados, 3 = Estado patrimonial   4 = Gráfico de tu estado financiero\"]\n",
        "],\n",
        "[\n",
        "r\"1\",\n",
        "[\"El 4/12/2022 solicitaste un préstamo al consumo por 12000$ por 6 cuotas, has pagado 6000$, te falta pagar otros 6000$\",]\n",
        "],\n",
        "[\n",
        "r\"2\",\n",
        "[\"El 10/6/2018 depositaste $20000 a 4 años con un interés simple de 4%, actualmente el interés generado es de 3200$, actualmente tienes 23200$\",]\n",
        "],\n",
        "]"
      ]
    },
    {
      "cell_type": "code",
      "execution_count": null,
      "metadata": {
        "colab": {
          "background_save": true,
          "base_uri": "https://localhost:8080/"
        },
        "id": "4n-Hd0XTPvXx",
        "outputId": "d8eddb0c-fd07-4fdd-f6c3-daa1fe4cc326"
      },
      "outputs": [
        {
          "output_type": "stream",
          "name": "stdout",
          "text": [
            ">Hola\n",
            "Bienvenido, soy el ChatBot de el banco y te ayudare en lo que necesites 24 horas, para información escribe INFO y para dudas escribe DUDA\n",
            ">Hola\n",
            "Bienvenido, soy el ChatBot de el banco y te ayudare en lo que necesites 24 horas, para información escribe INFO y para dudas escribe DUDA\n",
            ">DUDA\n",
            "Necesito tú número de documento para conectarme a la base de datos\n",
            ">12345678\n",
            "Documento registrado, escribe LISTA para mostrarte las opciones\n",
            ">LISTA\n",
            "Digita el número que desees ver:  1 = Préstamos solicitados y cantidad a pagar,      2 =  Intereses generados, 3 = Estado patrimonial   4 = Gráfico de tu estado financiero\n",
            ">1\n",
            "El 4/12/2022 solicitaste un préstamo al consumo por 12000$ por 6 cuotas, has pagado 6000$, te falta pagar otros 6000$\n"
          ]
        }
      ],
      "source": [
        "def chatear():\n",
        "  print(\"Hola\")\n",
        "chat = Chat(pares, mis_reflexions)\n",
        "chat.converse()\n",
        "if __name__ == \"__main__\":\n",
        "  chatear()"
      ]
    },
    {
      "cell_type": "code",
      "execution_count": null,
      "metadata": {
        "id": "2SFmgv0JEwgp"
      },
      "outputs": [],
      "source": [
        "Cliente: Hola\n",
        "Chatbot: Bienvenido, soy el ChatBot del banco y te ayudaré en lo que necesites las 24 horas, para información escribe INFO y para dudas escribe DUDA\",]\n",
        "Cliente: DUDA\n",
        "Chatbot: Necesito tu número de documento para conectarme a la base de datos\n",
        "Cliente: 12345678\n",
        "Chatbot: Documento registrado, escribe LISTA para mostrarte las opciones\n",
        "Cliente: LISTA\n",
        "Chatbot: Ingrese el número que desea ver: 1 = Préstamos solicitados y monto a pagar, 2 = Intereses generados, 3 = Estado del activo, 4 = Gráfica de su estado financiero\"\n",
        "Cliente: 1\n",
        "Chatbot: El 4/12/2022 solicitaste un crédito de consumo por $12.000 en 6 cuotas, has pagado $6.000, aún falta pagar otros $6.000\n",
        "Cliente: 2\n",
        "Chatbot: El 10/06/2018 depositó $20,000 durante 4 años al 4% de interés simple, actualmente el interés ganado es de $3,200, usted"
      ]
    },
    {
      "cell_type": "markdown",
      "source": [
        "# Esta es la conversación con el chatbot"
      ],
      "metadata": {
        "id": "G9Ijsl4qqfL7"
      }
    },
    {
      "cell_type": "code",
      "source": [
        ""
      ],
      "metadata": {
        "id": "Yu9khOaBqQQW"
      },
      "execution_count": null,
      "outputs": []
    },
    {
      "cell_type": "markdown",
      "source": [
        "# Estas respuestas se pueden guardar con respuestas de otros clientes para hacer un análisis general de lo que buscan los clientes cuando van al banco"
      ],
      "metadata": {
        "id": "jH4ElxJWr6Et"
      }
    }
  ],
  "metadata": {
    "colab": {
      "collapsed_sections": [],
      "name": " Chatbot Bancario.ipynb",
      "provenance": []
    },
    "kernelspec": {
      "display_name": "Python 3",
      "name": "python3"
    },
    "language_info": {
      "name": "python"
    }
  },
  "nbformat": 4,
  "nbformat_minor": 0
}