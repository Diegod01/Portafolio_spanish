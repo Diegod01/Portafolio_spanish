{
  "nbformat": 4,
  "nbformat_minor": 0,
  "metadata": {
    "colab": {
      "name": "Invest_recommendation_systemipynb",
      "provenance": [],
      "collapsed_sections": []
    },
    "kernelspec": {
      "name": "python3",
      "display_name": "Python 3"
    },
    "language_info": {
      "name": "python"
    }
  },
  "cells": [
    {
      "cell_type": "code",
      "execution_count": null,
      "metadata": {
        "id": "1eSiFCaWONNF"
      },
      "outputs": [],
      "source": [
        "import pandas as pd"
      ]
    },
    {
      "cell_type": "markdown",
      "source": [
        "# En este proyecto diseñe un sistema de recomendación con el que, en base a inversiones pasadas, el algoritmo recomendará otras empresas en las que invertir."
      ],
      "metadata": {
        "id": "rkPXX687Yyev"
      }
    },
    {
      "cell_type": "code",
      "source": [
        "df2 = pd.read_csv('/content/Empresas.csv')"
      ],
      "metadata": {
        "id": "vd5dQW2oRB8y"
      },
      "execution_count": null,
      "outputs": []
    },
    {
      "cell_type": "code",
      "source": [
        "df2['Empresa'].replace(('Apple Inc', 'Aramco', 'Microsoft Corp', 'Amazon.Com Inc','Alphabet Inc'), ('La Pasiva','Sushi Go', 'El Hornito', 'Grido', 'La Taberna del Diablo') , inplace = True)"
      ],
      "metadata": {
        "id": "Hn6wr1kEmEFS"
      },
      "execution_count": null,
      "outputs": []
    },
    {
      "cell_type": "markdown",
      "source": [
        "# Primero importamos la biblioteca pandas y creamos la variable df2 para el conjunto de datos, que tiene 101 filas y 6 columnas."
      ],
      "metadata": {
        "id": "tqJ4op3dZtbo"
      }
    },
    {
      "cell_type": "code",
      "source": [
        "df2.head()"
      ],
      "metadata": {
        "colab": {
          "base_uri": "https://localhost:8080/",
          "height": 422
        },
        "id": "Q_zPjYEsn3DA",
        "outputId": "70837ba0-1cfb-496e-82a7-7c1f2c6e4d03"
      },
      "execution_count": null,
      "outputs": [
        {
          "output_type": "execute_result",
          "data": {
            "text/html": [
              "\n",
              "  <div id=\"df-e0028137-7f66-4ede-8a33-278dc807865e\">\n",
              "    <div class=\"colab-df-container\">\n",
              "      <div>\n",
              "<style scoped>\n",
              "    .dataframe tbody tr th:only-of-type {\n",
              "        vertical-align: middle;\n",
              "    }\n",
              "\n",
              "    .dataframe tbody tr th {\n",
              "        vertical-align: top;\n",
              "    }\n",
              "\n",
              "    .dataframe thead th {\n",
              "        text-align: right;\n",
              "    }\n",
              "</style>\n",
              "<table border=\"1\" class=\"dataframe\">\n",
              "  <thead>\n",
              "    <tr style=\"text-align: right;\">\n",
              "      <th></th>\n",
              "      <th>Unnamed: 0</th>\n",
              "      <th>Nº</th>\n",
              "      <th>Empresa</th>\n",
              "      <th>País</th>\n",
              "      <th>Sector</th>\n",
              "      <th>Cap. Bursátil</th>\n",
              "    </tr>\n",
              "  </thead>\n",
              "  <tbody>\n",
              "    <tr>\n",
              "      <th>0</th>\n",
              "      <td>0</td>\n",
              "      <td>1</td>\n",
              "      <td>La Pasiva</td>\n",
              "      <td>Estados Unidos</td>\n",
              "      <td>Tecnología, Hardware</td>\n",
              "      <td>2.03572</td>\n",
              "    </tr>\n",
              "    <tr>\n",
              "      <th>1</th>\n",
              "      <td>1</td>\n",
              "      <td>2</td>\n",
              "      <td>Sushi Go</td>\n",
              "      <td>Arabia Saudí</td>\n",
              "      <td>Petróleo</td>\n",
              "      <td>1.83675</td>\n",
              "    </tr>\n",
              "    <tr>\n",
              "      <th>2</th>\n",
              "      <td>2</td>\n",
              "      <td>3</td>\n",
              "      <td>El Hornito</td>\n",
              "      <td>Estados Unidos</td>\n",
              "      <td>Tecnología, Software</td>\n",
              "      <td>1.75266</td>\n",
              "    </tr>\n",
              "    <tr>\n",
              "      <th>3</th>\n",
              "      <td>3</td>\n",
              "      <td>4</td>\n",
              "      <td>Grido</td>\n",
              "      <td>Estados Unidos</td>\n",
              "      <td>Comercio minorista de Internet</td>\n",
              "      <td>1.55749</td>\n",
              "    </tr>\n",
              "    <tr>\n",
              "      <th>4</th>\n",
              "      <td>4</td>\n",
              "      <td>5</td>\n",
              "      <td>La Taberna del Diablo</td>\n",
              "      <td>Estados Unidos</td>\n",
              "      <td>Servicios y medios interactivos</td>\n",
              "      <td>1.36828</td>\n",
              "    </tr>\n",
              "  </tbody>\n",
              "</table>\n",
              "</div>\n",
              "      <button class=\"colab-df-convert\" onclick=\"convertToInteractive('df-e0028137-7f66-4ede-8a33-278dc807865e')\"\n",
              "              title=\"Convert this dataframe to an interactive table.\"\n",
              "              style=\"display:none;\">\n",
              "        \n",
              "  <svg xmlns=\"http://www.w3.org/2000/svg\" height=\"24px\"viewBox=\"0 0 24 24\"\n",
              "       width=\"24px\">\n",
              "    <path d=\"M0 0h24v24H0V0z\" fill=\"none\"/>\n",
              "    <path d=\"M18.56 5.44l.94 2.06.94-2.06 2.06-.94-2.06-.94-.94-2.06-.94 2.06-2.06.94zm-11 1L8.5 8.5l.94-2.06 2.06-.94-2.06-.94L8.5 2.5l-.94 2.06-2.06.94zm10 10l.94 2.06.94-2.06 2.06-.94-2.06-.94-.94-2.06-.94 2.06-2.06.94z\"/><path d=\"M17.41 7.96l-1.37-1.37c-.4-.4-.92-.59-1.43-.59-.52 0-1.04.2-1.43.59L10.3 9.45l-7.72 7.72c-.78.78-.78 2.05 0 2.83L4 21.41c.39.39.9.59 1.41.59.51 0 1.02-.2 1.41-.59l7.78-7.78 2.81-2.81c.8-.78.8-2.07 0-2.86zM5.41 20L4 18.59l7.72-7.72 1.47 1.35L5.41 20z\"/>\n",
              "  </svg>\n",
              "      </button>\n",
              "      \n",
              "  <style>\n",
              "    .colab-df-container {\n",
              "      display:flex;\n",
              "      flex-wrap:wrap;\n",
              "      gap: 12px;\n",
              "    }\n",
              "\n",
              "    .colab-df-convert {\n",
              "      background-color: #E8F0FE;\n",
              "      border: none;\n",
              "      border-radius: 50%;\n",
              "      cursor: pointer;\n",
              "      display: none;\n",
              "      fill: #1967D2;\n",
              "      height: 32px;\n",
              "      padding: 0 0 0 0;\n",
              "      width: 32px;\n",
              "    }\n",
              "\n",
              "    .colab-df-convert:hover {\n",
              "      background-color: #E2EBFA;\n",
              "      box-shadow: 0px 1px 2px rgba(60, 64, 67, 0.3), 0px 1px 3px 1px rgba(60, 64, 67, 0.15);\n",
              "      fill: #174EA6;\n",
              "    }\n",
              "\n",
              "    [theme=dark] .colab-df-convert {\n",
              "      background-color: #3B4455;\n",
              "      fill: #D2E3FC;\n",
              "    }\n",
              "\n",
              "    [theme=dark] .colab-df-convert:hover {\n",
              "      background-color: #434B5C;\n",
              "      box-shadow: 0px 1px 3px 1px rgba(0, 0, 0, 0.15);\n",
              "      filter: drop-shadow(0px 1px 2px rgba(0, 0, 0, 0.3));\n",
              "      fill: #FFFFFF;\n",
              "    }\n",
              "  </style>\n",
              "\n",
              "      <script>\n",
              "        const buttonEl =\n",
              "          document.querySelector('#df-e0028137-7f66-4ede-8a33-278dc807865e button.colab-df-convert');\n",
              "        buttonEl.style.display =\n",
              "          google.colab.kernel.accessAllowed ? 'block' : 'none';\n",
              "\n",
              "        async function convertToInteractive(key) {\n",
              "          const element = document.querySelector('#df-e0028137-7f66-4ede-8a33-278dc807865e');\n",
              "          const dataTable =\n",
              "            await google.colab.kernel.invokeFunction('convertToInteractive',\n",
              "                                                     [key], {});\n",
              "          if (!dataTable) return;\n",
              "\n",
              "          const docLinkHtml = 'Like what you see? Visit the ' +\n",
              "            '<a target=\"_blank\" href=https://colab.research.google.com/notebooks/data_table.ipynb>data table notebook</a>'\n",
              "            + ' to learn more about interactive tables.';\n",
              "          element.innerHTML = '';\n",
              "          dataTable['output_type'] = 'display_data';\n",
              "          await google.colab.output.renderOutput(dataTable, element);\n",
              "          const docLink = document.createElement('div');\n",
              "          docLink.innerHTML = docLinkHtml;\n",
              "          element.appendChild(docLink);\n",
              "        }\n",
              "      </script>\n",
              "    </div>\n",
              "  </div>\n",
              "  "
            ],
            "text/plain": [
              "   Unnamed: 0 Nº  ...                           Sector Cap. Bursátil\n",
              "0           0  1  ...             Tecnología, Hardware       2.03572\n",
              "1           1  2  ...                         Petróleo       1.83675\n",
              "2           2  3  ...             Tecnología, Software       1.75266\n",
              "3           3  4  ...   Comercio minorista de Internet       1.55749\n",
              "4           4  5  ...  Servicios y medios interactivos       1.36828\n",
              "\n",
              "[5 rows x 6 columns]"
            ]
          },
          "metadata": {},
          "execution_count": 6
        }
      ]
    },
    {
      "cell_type": "markdown",
      "source": [
        "# Este es el conjunto de datos, puedes ver las empresas y su capitalización bursátil"
      ],
      "metadata": {
        "id": "u6znV9VsZxzx"
      }
    },
    {
      "cell_type": "code",
      "source": [
        "df2 = df2.dropna()"
      ],
      "metadata": {
        "id": "FYhGAeGcRCHb"
      },
      "execution_count": null,
      "outputs": []
    },
    {
      "cell_type": "code",
      "source": [
        "from sklearn.feature_extraction.text import CountVectorizer\n",
        "tf2=CountVectorizer()"
      ],
      "metadata": {
        "id": "LYR5pKA-RCLV"
      },
      "execution_count": null,
      "outputs": []
    },
    {
      "cell_type": "code",
      "source": [
        "X2 = tf2.fit_transform(df2['Empresa'])"
      ],
      "metadata": {
        "id": "ZJxLFKuqSdWC"
      },
      "execution_count": null,
      "outputs": []
    },
    {
      "cell_type": "code",
      "source": [
        "from sklearn.metrics.pairwise import cosine_similarity"
      ],
      "metadata": {
        "id": "5OvQ6htySdbe"
      },
      "execution_count": null,
      "outputs": []
    },
    {
      "cell_type": "code",
      "source": [
        "cosine_sim = cosine_similarity(X2)"
      ],
      "metadata": {
        "id": "6J84Avk7SdgU"
      },
      "execution_count": null,
      "outputs": []
    },
    {
      "cell_type": "markdown",
      "source": [
        "# Usamos 'dropna' para eliminar los datos nulos e importar desde sklearn 'CountVectorizer', vamos a crear la variable X2 donde transformamos la columna de la empresa, importamos 'cosine_similarity' de sklearn para el sistema de recomendación"
      ],
      "metadata": {
        "id": "Dpfs0kXlZ9cy"
      }
    },
    {
      "cell_type": "code",
      "source": [
        "Invest_business = 'Microsoft Corp'"
      ],
      "metadata": {
        "id": "t3tjTRj6Sn7S"
      },
      "execution_count": null,
      "outputs": []
    },
    {
      "cell_type": "markdown",
      "source": [
        "# Le dije al algoritmo que la empresa en la que decidí invertir fue Microsoft"
      ],
      "metadata": {
        "id": "5PWbpONaaYPY"
      }
    },
    {
      "cell_type": "code",
      "source": [
        "index_l = df2[df2['Empresa'] == Invest_business].index.values[0]\n",
        "similar_business = list(enumerate(cosine_sim[index_l]))\n",
        "sort_business = sorted(similar_business , key = lambda X:X[1] , reverse = True)\n",
        "sort_business.pop(0)\n",
        "sort_business = sort_business[:10]"
      ],
      "metadata": {
        "id": "874MsJATSoAg"
      },
      "execution_count": null,
      "outputs": []
    },
    {
      "cell_type": "code",
      "source": [
        "sort_business"
      ],
      "metadata": {
        "id": "pI5wDLX4SoGF"
      },
      "execution_count": null,
      "outputs": []
    },
    {
      "cell_type": "markdown",
      "source": [
        "# En base a mi decisión de invertir en Microsoft el algoritmo me recomienda invertir en las siguientes empresas:"
      ],
      "metadata": {
        "id": "xnKxJWakbXqD"
      }
    },
    {
      "cell_type": "code",
      "source": [
        "for movies in sort_business:\n",
        "    print(df2.Empresa[movies[0]])"
      ],
      "metadata": {
        "colab": {
          "base_uri": "https://localhost:8080/"
        },
        "id": "5d6-9XuXRCOt",
        "outputId": "cc59f9f0-c786-490a-a802-1490572b6fbf"
      },
      "execution_count": null,
      "outputs": [
        {
          "output_type": "stream",
          "name": "stdout",
          "text": [
            "Nvidia Corp\n",
            "Intel Corp\n",
            "Comcast Corp\n",
            "Chevron Corp\n",
            "Oracle Corp\n",
            "Danaher Corp\n",
            "Mcdonalds Corp\n",
            "Sony Corp\n",
            "Exxon Mobil Corp\n",
            "Union Pac Corp\n"
          ]
        }
      ]
    },
    {
      "cell_type": "markdown",
      "source": [
        "![Screenshot_20220328-215428_Opera.jpg](data:image/jpeg;base64,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)"
      ],
      "metadata": {
        "id": "gS-aMiZKLkYy"
      }
    },
    {
      "cell_type": "code",
      "source": [
        ""
      ],
      "metadata": {
        "id": "jWkIp-ZYLaVA"
      },
      "execution_count": null,
      "outputs": []
    }
  ]
}
